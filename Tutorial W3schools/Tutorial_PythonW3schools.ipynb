{
 "cells": [
  {
   "cell_type": "markdown",
   "metadata": {},
   "source": [
    "# ***Tutorial Pythoon w3 Schools***"
   ]
  },
  {
   "cell_type": "markdown",
   "metadata": {},
   "source": [
    "# **Sintaxis**"
   ]
  },
  {
   "cell_type": "code",
   "execution_count": 2,
   "metadata": {},
   "outputs": [
    {
     "name": "stdout",
     "output_type": "stream",
     "text": [
      "Hello World\n",
      "Five is greater than two!\n"
     ]
    }
   ],
   "source": [
    "print(\"Hello World\")\n",
    "\n",
    "if 5 > 2:\n",
    "    print(\"Five is greater than two!\")"
   ]
  },
  {
   "cell_type": "markdown",
   "metadata": {},
   "source": [
    "# **Comentarios**"
   ]
  },
  {
   "cell_type": "code",
   "execution_count": 3,
   "metadata": {},
   "outputs": [
    {
     "data": {
      "text/plain": [
       "'\\nThis is a comment\\nwritten in \\nmore that just one line\\n'"
      ]
     },
     "execution_count": 3,
     "metadata": {},
     "output_type": "execute_result"
    }
   ],
   "source": [
    "# This is a comment\n",
    "\n",
    "\"\"\"\n",
    "This is a comment\n",
    "written in \n",
    "more that just one line\n",
    "\"\"\""
   ]
  },
  {
   "cell_type": "markdown",
   "metadata": {},
   "source": [
    "# **Variables**"
   ]
  },
  {
   "cell_type": "code",
   "execution_count": 8,
   "metadata": {},
   "outputs": [
    {
     "name": "stdout",
     "output_type": "stream",
     "text": [
      "15\n",
      "15\n"
     ]
    }
   ],
   "source": [
    "# 1\n",
    "carname = \"Volvo\"\n",
    "\n",
    "# 2\n",
    "x = 50\n",
    "\n",
    "# 3 \n",
    "x = 5\n",
    "y = 10\n",
    "print(x +y)\n",
    "\n",
    "# 4\n",
    "x = 5\n",
    "y = 10\n",
    "z= x + y\n",
    "print(z)\n",
    "\n",
    "# 5 2my-first_name = \"John\"\n",
    "my_first_name = \"John\"\n",
    "\n",
    "# 6\n",
    "x = y = z = \"Orange\"\n",
    "\n",
    "# 7\n",
    "def myfunc(): \n",
    "    global x\n",
    "    x = \"fantastic\""
   ]
  },
  {
   "cell_type": "markdown",
   "metadata": {},
   "source": [
    "# **Tipo de Datos**"
   ]
  },
  {
   "cell_type": "code",
   "execution_count": 14,
   "metadata": {},
   "outputs": [
    {
     "name": "stdout",
     "output_type": "stream",
     "text": [
      "<class 'int'>\n",
      "<class 'str'>\n",
      "<class 'float'>\n",
      "<class 'list'>\n",
      "<class 'tuple'>\n",
      "<class 'dict'>\n",
      "<class 'bool'>\n"
     ]
    }
   ],
   "source": [
    "#1\n",
    "x = 5\n",
    "print(type(x))\n",
    "\n",
    "#2\n",
    "x = \"Hello World\"\n",
    "print(type(x))\n",
    "\n",
    "#3\n",
    "x = 20.5\n",
    "print(type(x))\n",
    "\n",
    "#4\n",
    "x = [\"apple\", \"banana\", \"cherry\"]\n",
    "print(type(x))\n",
    "\n",
    "#5\n",
    "x = (\"apple\", \"banana\", \"cherry\")\n",
    "print(type(x))\n",
    "\n",
    "#6\n",
    "x = {\"name\" : \"John\", \"age\" : 36}\n",
    "print(type(x))\n",
    "\n",
    "#7\n",
    "x = True\n",
    "print(type(x))"
   ]
  },
  {
   "cell_type": "markdown",
   "metadata": {},
   "source": [
    "# **Números**"
   ]
  },
  {
   "cell_type": "code",
   "execution_count": 16,
   "metadata": {},
   "outputs": [],
   "source": [
    "#1\n",
    "x = 5\n",
    "x = float(x)\n",
    "\n",
    "#2\n",
    "x = 5.5\n",
    "x = int(x)\n",
    "\n",
    "#3\n",
    "x = 5\n",
    "x = complex(x)"
   ]
  },
  {
   "cell_type": "markdown",
   "metadata": {},
   "source": [
    "# **Cadena**"
   ]
  },
  {
   "cell_type": "code",
   "execution_count": 36,
   "metadata": {},
   "outputs": [
    {
     "name": "stdout",
     "output_type": "stream",
     "text": [
      "11\n",
      "H\n",
      "llo\n",
      "Hello World\n",
      "HELLO WORLD\n",
      "hello world\n",
      "Jello World\n",
      "My name is John, and I am 36\n"
     ]
    }
   ],
   "source": [
    "#1\n",
    "x = \"Hello World\"\n",
    "print(len(x))\n",
    "\n",
    "#2\n",
    "txt = \"Hello World\"\n",
    "x = txt[0]\n",
    "print(x)\n",
    "\n",
    "#3\n",
    "txt = \"Hello World\"\n",
    "x = txt[2:5]\n",
    "print(x)\n",
    "\n",
    "#4\n",
    "txt = \" Hello World \"\n",
    "x = txt.strip()\n",
    "print(x)\n",
    "\n",
    "#5\n",
    "txt = \"Hello World\"\n",
    "txt = txt.upper()\n",
    "print(txt)\n",
    "\n",
    "#6\n",
    "txt = \"Hello World\"\n",
    "txt = txt.lower()\n",
    "print(txt)\n",
    "\n",
    "#7\n",
    "txt = \"Hello World\"\n",
    "txt = txt.replace(\"H\",\"J\")\n",
    "print(txt)\n",
    "\n",
    "#8\n",
    "age = 36\n",
    "txt = \"My name is John, and I am {}\"\n",
    "print(txt.format(age))"
   ]
  },
  {
   "cell_type": "markdown",
   "metadata": {},
   "source": [
    "# **Booleanos**"
   ]
  },
  {
   "cell_type": "code",
   "execution_count": 38,
   "metadata": {},
   "outputs": [
    {
     "name": "stdout",
     "output_type": "stream",
     "text": [
      "True\n",
      "False\n",
      "False\n",
      "True\n",
      "False\n"
     ]
    }
   ],
   "source": [
    "#1\n",
    "print(10 > 9)\n",
    "\n",
    "#2\n",
    "print(10 == 9)\n",
    "\n",
    "#3\n",
    "print(10 < 9)\n",
    "\n",
    "#4\n",
    "print(bool(\"abc\"))\n",
    "\n",
    "#5\n",
    "print(bool(0))"
   ]
  },
  {
   "cell_type": "markdown",
   "metadata": {},
   "source": [
    "# **Operadores**"
   ]
  },
  {
   "cell_type": "code",
   "execution_count": 42,
   "metadata": {},
   "outputs": [
    {
     "name": "stdout",
     "output_type": "stream",
     "text": [
      "50\n",
      "5.0\n",
      "Yes, apple is a fruit!\n",
      "5 and 10 is not equal\n",
      "At least one of the statements is true\n"
     ]
    }
   ],
   "source": [
    "#1\n",
    "print(10 * 5)\n",
    "\n",
    "#2\n",
    "print(10 / 2)\n",
    "\n",
    "#3\n",
    "fruits = [\"apple\", \"banana\"]\n",
    "if \"apple\" in fruits:\n",
    "    print(\"Yes, apple is a fruit!\")\n",
    "    \n",
    "#4    \n",
    "if 5 != 10:\n",
    "    print(\"5 and 10 is not equal\")\n",
    "          \n",
    "#5         \n",
    "if 5 == 10 or 4 == 4:\n",
    "  print(\"At least one of the statements is true\")"
   ]
  },
  {
   "cell_type": "markdown",
   "metadata": {},
   "source": [
    "# **Listas**"
   ]
  },
  {
   "cell_type": "code",
   "execution_count": 15,
   "metadata": {},
   "outputs": [
    {
     "name": "stdout",
     "output_type": "stream",
     "text": [
      "False\n"
     ]
    }
   ],
   "source": [
    "#1\n",
    "fruits = [\"apple\", \"banana\", \"cherry\"]\n",
    "print(fruits[1])\n",
    "\n",
    "#2\n",
    "fruits = [\"apple\", \"banana\", \"cherry\"]\n",
    "fruits[0] = \"Kiwy\"\n",
    "print(fruits)\n",
    "\n",
    "#3\n",
    "fruits = [\"apple\", \"banana\", \"cherry\"]\n",
    "fruits.append(\"orange\")\n",
    "print(fruits)\n",
    "\n",
    "#4\n",
    "fruits = [\"apple\", \"banana\", \"cherry\"]\n",
    "fruits.insert(1, \"lemon\")\n",
    "print(fruits)\n",
    "\n",
    "#5\n",
    "fruits = [\"apple\", \"banana\", \"cherry\"]\n",
    "fruits.remove(\"banana\")\n",
    "print(fruits)\n",
    "\n",
    "#6\n",
    "fruits = [\"apple\", \"banana\", \"cherry\"]\n",
    "print(fruits[-1])\n",
    "\n",
    "#7\n",
    "fruits = [\"apple\", \"banana\", \"cherry\", \"orange\", \"kiwi\", \"melon\", \"mango\"]\n",
    "print(fruits[2:5])\n",
    "\n",
    "#8\n",
    "fruits = [\"apple\", \"banana\", \"cherry\"]\n",
    "print(len(fruits))"
   ]
  },
  {
   "cell_type": "markdown",
   "metadata": {},
   "source": [
    "# **Tuplas**"
   ]
  },
  {
   "cell_type": "code",
   "execution_count": 43,
   "metadata": {},
   "outputs": [
    {
     "name": "stdout",
     "output_type": "stream",
     "text": [
      "apple\n",
      "3\n",
      "mango\n",
      "('cherry', 'orange', 'kiwi')\n"
     ]
    }
   ],
   "source": [
    "#1\n",
    "fruits = (\"apple\", \"banana\", \"cherry\")\n",
    "print(fruits[0])\n",
    "\n",
    "#2\n",
    "fruits = (\"apple\", \"banana\", \"cherry\")\n",
    "print(len(fruits))\n",
    "\n",
    "#3\n",
    "fruits = (\"apple\", \"banana\", \"cherry\", \"orange\", \"kiwi\", \"melon\", \"mango\")\n",
    "print(fruits[-1])\n",
    "\n",
    "#4\n",
    "fruits = (\"apple\", \"banana\", \"cherry\", \"orange\", \"kiwi\", \"melon\", \"mango\")\n",
    "print(fruits[2:5])"
   ]
  },
  {
   "cell_type": "markdown",
   "metadata": {},
   "source": [
    "# **Conjuntos**"
   ]
  },
  {
   "cell_type": "code",
   "execution_count": 44,
   "metadata": {},
   "outputs": [
    {
     "name": "stdout",
     "output_type": "stream",
     "text": [
      "Yes, apple is a fruit!\n",
      "{'cherry', 'banana', 'orange', 'grapes', 'apple', 'mango'}\n",
      "{'cherry', 'apple'}\n",
      "{'cherry', 'apple'}\n"
     ]
    }
   ],
   "source": [
    "#1\n",
    "fruits = {\"apple\", \"banana\", \"cherry\"}\n",
    "if \"apple\" in fruits:\n",
    "    print(\"Yes, apple is a fruit!\")\n",
    "    \n",
    "#2\n",
    "fruits = {\"apple\", \"banana\", \"cherry\"}\n",
    "fruits.add(\"orange\")\n",
    "\n",
    "#3\n",
    "fruits = {\"apple\", \"banana\", \"cherry\"}\n",
    "more_fruits = [\"orange\", \"mango\", \"grapes\"]\n",
    "fruits.update(more_fruits)\n",
    "print(fruits)\n",
    "\n",
    "#4\n",
    "fruits = {\"apple\", \"banana\", \"cherry\"}\n",
    "fruits.remove(\"banana\")\n",
    "print(fruits)\n",
    "\n",
    "#5\n",
    "fruits = {\"apple\", \"banana\", \"cherry\"}\n",
    "fruits.discard(\"banana\")\n",
    "print(fruits)"
   ]
  },
  {
   "cell_type": "markdown",
   "metadata": {},
   "source": [
    "# **Diccionarios**"
   ]
  },
  {
   "cell_type": "code",
   "execution_count": 50,
   "metadata": {},
   "outputs": [
    {
     "name": "stdout",
     "output_type": "stream",
     "text": [
      "Mustang\n",
      "{'brand': 'Ford', 'model': 'Mustang', 'year': 2020}\n",
      "{'brand': 'Ford', 'model': 'Mustang', 'year': 1964, 'color': 'red'}\n",
      "{'brand': 'Ford', 'year': 1964}\n",
      "{}\n"
     ]
    }
   ],
   "source": [
    "#1\n",
    "car =\t{\n",
    "  \"brand\": \"Ford\",\n",
    "  \"model\": \"Mustang\",\n",
    "  \"year\": 1964\n",
    "}\n",
    "print(car.get(\"model\"))\n",
    "\n",
    "#2\n",
    "car =\t{\n",
    "  \"brand\": \"Ford\",\n",
    "  \"model\": \"Mustang\",\n",
    "  \"year\": 1964\n",
    "}\n",
    "car[\"year\"] = 2020\n",
    "print(car)\n",
    "\n",
    "#3\n",
    "car =\t{\n",
    "  \"brand\": \"Ford\",\n",
    "  \"model\": \"Mustang\",\n",
    "  \"year\": 1964\n",
    "}\n",
    "car[\"color\"] = \"red\"\n",
    "print(car)\n",
    "\n",
    "#4\n",
    "car =\t{\n",
    "  \"brand\": \"Ford\",\n",
    "  \"model\": \"Mustang\",\n",
    "  \"year\": 1964\n",
    "}\n",
    "car.pop(\"model\")\n",
    "print(car)\n",
    "\n",
    "#5\n",
    "car =\t{\n",
    "  \"brand\": \"Ford\",\n",
    "  \"model\": \"Mustang\",\n",
    "  \"year\": 1964\n",
    "}\n",
    "car.clear()\n",
    "print(car)\n"
   ]
  },
  {
   "cell_type": "markdown",
   "metadata": {},
   "source": [
    "# **Condicionales**"
   ]
  },
  {
   "cell_type": "code",
   "execution_count": 59,
   "metadata": {},
   "outputs": [
    {
     "name": "stdout",
     "output_type": "stream",
     "text": [
      "Hello World\n",
      "Hello World\n",
      "No\n",
      "2\n",
      "Five is greater than two\n",
      "Five is greater than two!\n",
      "Yes\n"
     ]
    }
   ],
   "source": [
    "#1\n",
    "a = 50\n",
    "b = 10\n",
    "if a >b:\n",
    "    print(\"Hello World\")\n",
    "    \n",
    "#2\n",
    "a = 50\n",
    "b = 10\n",
    "if a != b:\n",
    "      print(\"Hello World\")\n",
    "        \n",
    "#3\n",
    "a = 50\n",
    "b = 10\n",
    "if a == b:\n",
    "    print(\"Yes\")\n",
    "else:\n",
    "    print(\"No\")\n",
    "    \n",
    "#4\n",
    "a = 50\n",
    "b = 10\n",
    "c = 23\n",
    "d = 33\n",
    "\n",
    "if a == b:\n",
    "    print(\"1\")\n",
    "elif a > b:\n",
    "    print(\"2\")\n",
    "else:\n",
    "    print(\"3\")\n",
    "    \n",
    "#5\n",
    "if a == b and c == d:\n",
    "    print(\"Hello\")\n",
    "    \n",
    "#6\n",
    "if a == b or c == d:\n",
    "    print(\"Hello\")\n",
    "    \n",
    "#7\n",
    "if 5 > 2:\n",
    "     print(\"Five is greater than two\")\n",
    "        \n",
    "#8\n",
    "if 5 > 2: print(\"Five is greater than two!\")\n",
    "    \n",
    "#9\n",
    "print(\"Yes\") if 5 > 2 else print(\"No\")"
   ]
  },
  {
   "cell_type": "markdown",
   "metadata": {},
   "source": [
    "# **Bucles**"
   ]
  },
  {
   "cell_type": "code",
   "execution_count": 73,
   "metadata": {},
   "outputs": [
    {
     "name": "stdout",
     "output_type": "stream",
     "text": [
      "1\n",
      "2\n",
      "3\n",
      "4\n",
      "5\n",
      "--------\n",
      "1\n",
      "2\n",
      "4\n",
      "5\n",
      "6\n",
      "--------\n",
      "1\n",
      "2\n",
      "3\n",
      "4\n",
      "5\n",
      "i is no longer less than 6\n"
     ]
    }
   ],
   "source": [
    "#1\n",
    "i = 1\n",
    "while i < 6:\n",
    "    print(i)\n",
    "    i += 1\n",
    "      \n",
    "print(\"--------\")  \n",
    "\n",
    "#2\n",
    "i = 1\n",
    "while i < 6:\n",
    "    if i == 3:    \n",
    "        break\n",
    "    i += 1\n",
    "\n",
    "#3\n",
    "i = 0\n",
    "while i < 6:\n",
    "    i += 1\n",
    "    if i == 3:   \n",
    "        continue\n",
    "    print(i)\n",
    "print(\"--------\")  \n",
    "\n",
    "#4\n",
    "i = 1\n",
    "while i < 6:\n",
    "    print(i)\n",
    "    i += 1\n",
    "else:\n",
    "    print(\"i is no longer less than 6\")"
   ]
  },
  {
   "cell_type": "markdown",
   "metadata": {},
   "source": [
    "# **Bucle For**"
   ]
  },
  {
   "cell_type": "code",
   "execution_count": 4,
   "metadata": {},
   "outputs": [
    {
     "name": "stdout",
     "output_type": "stream",
     "text": [
      "apple\n",
      "banana\n",
      "cherry\n",
      "----------\n",
      "apple\n",
      "cherry\n",
      "----------\n",
      "0\n",
      "1\n",
      "2\n",
      "3\n",
      "4\n",
      "5\n",
      "----------\n",
      "apple\n"
     ]
    }
   ],
   "source": [
    "#1\n",
    "fruits = [\"apple\", \"banana\", \"cherry\"]\n",
    "for x in fruits:\n",
    "    print(x)\n",
    "print(\"----------\")\n",
    "\n",
    "#2\n",
    "fruits = [\"apple\", \"banana\", \"cherry\"]\n",
    "for x in fruits:\n",
    "    if x == \"banana\":   \n",
    "        continue\n",
    "    print(x)\n",
    "print(\"----------\")\n",
    "\n",
    "#3\n",
    "for x in range(6):\n",
    "    print(x)    \n",
    "print(\"----------\")\n",
    "\n",
    "#4\n",
    "fruits = [\"apple\", \"banana\", \"cherry\"]\n",
    "for x in fruits:\n",
    "    if x == \"banana\":    \n",
    "        break\n",
    "    print(x)"
   ]
  },
  {
   "cell_type": "markdown",
   "metadata": {},
   "source": [
    "# **Funciones**"
   ]
  },
  {
   "cell_type": "code",
   "execution_count": 9,
   "metadata": {},
   "outputs": [
    {
     "name": "stdout",
     "output_type": "stream",
     "text": [
      "Hello from a function\n"
     ]
    }
   ],
   "source": [
    "#1\n",
    "def my_function():\n",
    "    print(\"Hello from a function\")\n",
    "    \n",
    "#2\n",
    "my_function()\n",
    "\n",
    "#3\n",
    "def my_function(fname, lname):\n",
    "    print(fname)\n",
    "    \n",
    "#4\n",
    "def my_function(x):  \n",
    "    return x + 5\n",
    "\n",
    "#5\n",
    "def my_function(*kids):\n",
    "    print(\"The youngest child is \" + kids[2])\n",
    "\n",
    "#6\n",
    "def my_function(**kid):\n",
    "    print(\"His last name is \" + kid[\"lname\"])"
   ]
  },
  {
   "cell_type": "markdown",
   "metadata": {},
   "source": [
    "# **Lambda**"
   ]
  },
  {
   "cell_type": "code",
   "execution_count": 12,
   "metadata": {},
   "outputs": [
    {
     "name": "stdout",
     "output_type": "stream",
     "text": [
      "3\n"
     ]
    }
   ],
   "source": [
    "x = lambda a:a\n",
    "print(x(3))"
   ]
  },
  {
   "cell_type": "markdown",
   "metadata": {},
   "source": [
    "# **Clases**"
   ]
  },
  {
   "cell_type": "code",
   "execution_count": 18,
   "metadata": {},
   "outputs": [
    {
     "name": "stdout",
     "output_type": "stream",
     "text": [
      "5\n"
     ]
    }
   ],
   "source": [
    "#1\n",
    "class MyClass:\n",
    "    x = 5\n",
    "    \n",
    "#2\n",
    "class MyClass:\n",
    "    x = 5\n",
    "p1 = MyClass()\n",
    "\n",
    "#3\n",
    "class MyClass:\n",
    "    x = 5\n",
    "p1 = MyClass()\n",
    "print(p1.x)\n",
    "\n",
    "#4\n",
    "class Person:\n",
    "    def __init__(self, name, age):\n",
    "        self.name = name\n",
    "        self.age = age"
   ]
  },
  {
   "cell_type": "markdown",
   "metadata": {},
   "source": [
    "# **Herencia**"
   ]
  },
  {
   "cell_type": "code",
   "execution_count": null,
   "metadata": {},
   "outputs": [],
   "source": [
    "#1\n",
    "class Student(Person):\n",
    "    \n",
    "#2\n",
    "class Person:\n",
    "    def __init__(self, fname):\n",
    "    self.firstname = fname\n",
    "\n",
    "    def printname(self):\n",
    "    print(self.firstname)\n",
    "\n",
    "class Student(Person):\n",
    "    pass\n",
    "\n",
    "x = Student(\"Mike\")\n",
    "x.printname()\n"
   ]
  },
  {
   "cell_type": "markdown",
   "metadata": {},
   "source": [
    "# **Modulos**"
   ]
  },
  {
   "cell_type": "code",
   "execution_count": null,
   "metadata": {},
   "outputs": [],
   "source": [
    "#1\n",
    "import mymodule\n",
    "    \n",
    "#2\n",
    "import mymodule as mx\n",
    "\n",
    "#3\n",
    "import mymodule\n",
    "print(dir(mymodule))\n",
    "\n",
    "#4\n",
    "from mymodule import person1"
   ]
  },
  {
   "cell_type": "markdown",
   "metadata": {},
   "source": [
    "# **Elaborado por: Kenny Cruz García.**"
   ]
  },
  {
   "cell_type": "code",
   "execution_count": null,
   "metadata": {},
   "outputs": [],
   "source": []
  }
 ],
 "metadata": {
  "kernelspec": {
   "display_name": "Python 3",
   "language": "python",
   "name": "python3"
  },
  "language_info": {
   "codemirror_mode": {
    "name": "ipython",
    "version": 3
   },
   "file_extension": ".py",
   "mimetype": "text/x-python",
   "name": "python",
   "nbconvert_exporter": "python",
   "pygments_lexer": "ipython3",
   "version": "3.7.6"
  }
 },
 "nbformat": 4,
 "nbformat_minor": 4
}
