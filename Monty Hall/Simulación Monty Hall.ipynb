{
 "cells": [
  {
   "cell_type": "markdown",
   "metadata": {},
   "source": [
    "# **El Problema de Monty Hall**\n",
    "\n",
    "El Problema de Monty Hall es un problema de probabilidad que está inspirado por el concurso televisivo estadounidense Let's Make a Deal(Hagamos un trato). , famoso entre 1963 y 1986. Su nombre proviene del presentador, Monty Hall.\n",
    "\n",
    "En este concurso, el concursante escoge una puerta entre tres, y su premio consiste en lo que se encuentra detrás. Una de ellas oculta un coche, y tras las otras dos hay una cabra. Sin embargo, antes de abrirla, el presentador, que sabe donde esta el premio, abre una de las otras dos puertas y muestra que detrás de ella hay una cabra. Ahora tiene el concursante una última oportunidad de cambiar la puerta escogida ¿Debe el concursante mantener su elección original o escoger la otra puerta? ¿Hay alguna diferencia?\n",
    "\n",
    "**Se ofrece un concurso cuya mecánica es la siguiente:**\n",
    "\n",
    "* Al concursante se le ofrece la posibilidad de escoger una entre tres puertas. Tras una de ellas se encuentra un coche, y tras las otras dos hay una cabra. El concursante gana el premio que se oculta detrás de la puerta que escoja.\n",
    "* Después de que el concursante escoja una puerta, el presentador abre una de las otras dos puertas, mostrando una cabra. Siempre puede hacerlo ya que incluso si el concursante ha escogido una cabra, queda otra entre las puertas que ha descartado y el presentador conoce lo que hay detrás de cada puerta.\n",
    "* Entonces, ofrece al concursante la posibilidad de cambiar su elección inicial y escoger la otra puerta que descartó originalmente, que continúa cerrada.\n",
    "\n",
    "**La pregunta oportuna es: ¿debe hacerlo o no?**\n",
    "\n",
    "**Demostración:**"
   ]
  },
  {
   "cell_type": "code",
   "execution_count": 10,
   "metadata": {},
   "outputs": [
    {
     "name": "stdout",
     "output_type": "stream",
     "text": [
      "Bienvenido al Simulador de Monty Hall\n",
      "Ingrese el número de partidas a realizar: \n",
      "600\n",
      "Ingrese el número de puertas que se simularán: \n",
      "2\n",
      "Desea que el simulador cambie puertas automaticamente: si/no?\n",
      "si\n",
      "Eligio cambiar las puertas automaticamente\n",
      "Partidas ganadas con cambio fueron: 271 de 600 y el porcentaje de victorias fue del 45.166666666666664%\n",
      "Partidas ganadas sin cambio fueron : 329 de 600 y el porcentaje de victorias fue del 54.833333333333336%\n"
     ]
    }
   ],
   "source": [
    "import random    #Importamos la libreria random\n",
    "\n",
    "print(\"Bienvenido al Simulador de Monty Hall\")\n",
    "print(\"Ingrese el número de partidas a realizar: \")\n",
    "numero_partidas = int(input())\n",
    "print(\"Ingrese el número de puertas que se simularán: \")\n",
    "puertas = int(input())\n",
    "print(\"Desea que el simulador cambie puertas automaticamente: si/no?\")\n",
    "cambio_puertas = input()\n",
    "partidas_ganadas_cambio = 0\n",
    "partidas_ganadas_sin_cambio = 0\n",
    "partidas_perdidas = 0\n",
    "\n",
    "# Validación que permite que el programa solo se ejecute si el usuario ingrese valores mayorea a 0.\n",
    "if numero_partidas >1 or puertas >1:\n",
    "    # Condiciona que determina si el usuario desea cambiar las puertas automaticamente.\n",
    "    if cambio_puertas == \"si\" or cambio_puertas == \"Si\":\n",
    "            print(\"Eligio cambiar las puertas automaticamente\")\n",
    "            # Bucle for que se ejecute dependiendo el numero de partidas que el usuario ingresó\n",
    "            for index in range(0, numero_partidas):\n",
    "                puertas_premiada = random.randrange(0, puertas)#Coloca el premio en la puerta\n",
    "                puerta_escogida = random.randrange(0, puertas)#Escoge una puerta\n",
    "                 # Condicional para escoger la puerta ganadora o no.\n",
    "                if puertas_premiada != puerta_escogida:\n",
    "                    partidas_ganadas_cambio = partidas_ganadas_cambio + 1\n",
    "                else:\n",
    "                    partidas_ganadas_sin_cambio = partidas_ganadas_sin_cambio + 1\n",
    "    #Condicional que determina que el usuario no desea cambiar las puertas                \n",
    "    elif cambio_puertas == \"no\" or cambio_puertas == \"No\":\n",
    "            print(\"Eligio no cambiar las puertas automaticamente\")\n",
    "            #Bucle for que se ejecute dependiendo el numero de partidas que el usuario ingresó\n",
    "            for index in range(0, numero_partidas):\n",
    "                puertas_premiada = random.randrange(0, puertas)  #Coloca el premio en la puerta\n",
    "                puerta_escogida = random.randrange(0, puertas) #Escoge una puerta\n",
    "            #Condicional para escoger solo la puerta ganadora\n",
    "                if puertas_premiada == puerta_escogida:\n",
    "                    partidas_ganadas_sin_cambio = partidas_ganadas_sin_cambio + 1\n",
    "                else:\n",
    "                    partidas_perdidas = partidas_perdidas + 1\n",
    "# Mensaje que muestra que el usuario debe ingresar valores mayores a 0       \n",
    "else:\n",
    "    print(\"Error Ingrese numeros mayores a 0\")\n",
    "\n",
    "# Mensajes que se muestran al usuario con sus respectivos porcentajes de victorias\n",
    "\n",
    "porcentaje_cambio = (partidas_ganadas_cambio / numero_partidas) * 100\n",
    "if porcentaje_cambio == 0:\n",
    "    # Operaciones matemáticas que calculan los porcentajes de victorias.\n",
    "    porcentaje_sin_cambio = (partidas_ganadas_sin_cambio / numero_partidas) * 100\n",
    "    porcentaje_perdidas = (partidas_perdidas / numero_partidas) * 100\n",
    "    print(\"Partidas ganadas sin cambio fueron : \" + str(partidas_ganadas_sin_cambio) + \" de \" + str(numero_partidas) + \" y el porcentaje de victorias fue del \" + str(porcentaje_sin_cambio)+\"%\")\n",
    "    print(\"Partidas perdidas fueron : \" + str(partidas_perdidas) + \" de \" + str(numero_partidas) + \" y el porcentaje de derrotas fue del \" + str(porcentaje_perdidas)+\"%\")\n",
    "else:\n",
    "    # Operaciones matemáticas que calculan los porcentajes de victorias.\n",
    "    porcentaje_sin_cambio = (partidas_ganadas_sin_cambio / numero_partidas) * 100\n",
    "    print(\"Partidas ganadas con cambio fueron: \" + str(partidas_ganadas_cambio)  + \" de \" + str(numero_partidas) + \" y el porcentaje de victorias fue del \" + str(porcentaje_cambio)+ \"%\")\n",
    "    print(\"Partidas ganadas sin cambio fueron : \" + str(partidas_ganadas_sin_cambio) + \" de \" + str(numero_partidas) + \" y el porcentaje de victorias fue del \" + str(porcentaje_sin_cambio)+\"%\")"
   ]
  },
  {
   "cell_type": "markdown",
   "metadata": {},
   "source": [
    "**Elaborado por: Kenny Cruz García.**"
   ]
  },
  {
   "cell_type": "code",
   "execution_count": null,
   "metadata": {},
   "outputs": [],
   "source": []
  }
 ],
 "metadata": {
  "kernelspec": {
   "display_name": "Python 3",
   "language": "python",
   "name": "python3"
  },
  "language_info": {
   "codemirror_mode": {
    "name": "ipython",
    "version": 3
   },
   "file_extension": ".py",
   "mimetype": "text/x-python",
   "name": "python",
   "nbconvert_exporter": "python",
   "pygments_lexer": "ipython3",
   "version": "3.7.6"
  }
 },
 "nbformat": 4,
 "nbformat_minor": 4
}
