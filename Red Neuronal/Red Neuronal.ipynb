{
 "cells": [
  {
   "cell_type": "code",
   "execution_count": 2,
   "metadata": {},
   "outputs": [
    {
     "name": "stdout",
     "output_type": "stream",
     "text": [
      "0.9820137900379085\n"
     ]
    }
   ],
   "source": [
    "import numpy as np\n",
    "import math\n",
    "\n",
    "class Neurona:\n",
    "    entradas = []\n",
    "    pesos = []\n",
    "    bias = 0\n",
    "\n",
    "    def __sumatoria_ponderada(self):\n",
    "        acum = self.bias\n",
    "        for index in range(0,len(self.entradas)):\n",
    "            acum = acum + self.entradas[index] * self.pesos[index]\n",
    "        return acum\n",
    "    \n",
    "    \n",
    "    def __sigmoid(self, x):\n",
    "          return 1 / (1 + math.exp(-x))\n",
    "        \n",
    "    def evaluar(self):\n",
    "        return self.__sigmoid(self.__sumatoria_ponderada())\n",
    "        \n",
    "        \n",
    "sm1 = Neurona()\n",
    "sm1.entradas = [2,4]\n",
    "sm1.pesos =[1,3]\n",
    "sm1.bias = -10\n",
    "sumador = sm1.evaluar()\n",
    "print(sumador)"
   ]
  }
 ],
 "metadata": {
  "kernelspec": {
   "display_name": "Python 3",
   "language": "python",
   "name": "python3"
  },
  "language_info": {
   "codemirror_mode": {
    "name": "ipython",
    "version": 3
   },
   "file_extension": ".py",
   "mimetype": "text/x-python",
   "name": "python",
   "nbconvert_exporter": "python",
   "pygments_lexer": "ipython3",
   "version": "3.7.6"
  }
 },
 "nbformat": 4,
 "nbformat_minor": 4
}
