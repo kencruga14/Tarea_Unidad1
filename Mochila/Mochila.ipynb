{
 "cells": [
  {
   "cell_type": "markdown",
   "metadata": {},
   "source": [
    "# **Ejercicio de la Mochila**"
   ]
  },
  {
   "cell_type": "code",
   "execution_count": 37,
   "metadata": {},
   "outputs": [
    {
     "name": "stdout",
     "output_type": "stream",
     "text": [
      "\"La combinación ideal es la del [('Paquete 6', 10, 25), ('Paquete 9', 10, 24)]\"\n",
      "Peso Total es 20Kg y el Valor Total es 49\n"
     ]
    }
   ],
   "source": [
    "from operator import itemgetter\n",
    "from pprint import pprint\n",
    "\n",
    "# Paquetes: \"Nombre del paquete\", Kilos, Precio\n",
    "# Valores de Calidad de cada producto (25,24,15)\n",
    "# Valores del peso de cada producto (18,15,10)\n",
    "PAQUETES = (\n",
    "    (\"Paquete 1\", 18, 25), (\"Paquete 2\", 15, 24), (\"Paquete 3\", 10, 15), (\"Paquete 4\", 18, 24),\n",
    "    (\"Paquete 5\", 15, 25), (\"Paquete 6\", 10, 25), (\"Paquete 7\", 18, 15), (\"Paquete 8\", 15, 10),\n",
    "    (\"Paquete 9\", 10, 24))\n",
    "\n",
    "#carga máxima de la mochila 20Kg\n",
    "PESOMAXIMO = 20\n",
    "\n",
    "# Declaramos las variables\n",
    "get_peso = itemgetter(1)\n",
    "get_valor = itemgetter(2)\n",
    "\n",
    "# Declaramos funciones para calcular el peso y valor de los productos\n",
    "def total_peso(paquetes):\n",
    "    return sum(get_peso(x) for x in paquetes)\n",
    "\n",
    "def total_valor(paquetes):\n",
    "    return sum(get_valor(x) for x in paquetes)\n",
    "\n",
    "# Función que define los paquetes con la calidad mas alta y que no sobrepase el valor límite de 20Kg\n",
    "def combinaciones(paquetes, peso_maximo):\n",
    "    paqs = [ p for p in paquetes if get_peso(p) <= peso_maximo ]\n",
    "    resultado = []\n",
    "    for p in paqs:\n",
    "        res = combinaciones([x for x in paqs if x!=p], peso_maximo - get_peso(p))\n",
    "        if len(res) == 0:\n",
    "            resultado.append([p])\n",
    "        else:\n",
    "            resultado.extend([[p]+x for x in res])\n",
    "    return resultado\n",
    "\n",
    "# Encuentra los paquetes con mayor calida y peso ideal e imprimimos los resultados\n",
    "sol = max(combinaciones(PAQUETES, PESOMAXIMO), key=total_valor)\n",
    "\n",
    "\n",
    "pprint(\"La combinación ideal es la del \" + str(sol))\n",
    "print(\"Peso Total es {}Kg y el Valor Total es {}\".format(total_peso(sol), total_valor(sol)))"
   ]
  },
  {
   "cell_type": "markdown",
   "metadata": {},
   "source": [
    "**Elaborado por: Kenny Cruz García**"
   ]
  }
 ],
 "metadata": {
  "kernelspec": {
   "display_name": "Python 3",
   "language": "python",
   "name": "python3"
  },
  "language_info": {
   "codemirror_mode": {
    "name": "ipython",
    "version": 3
   },
   "file_extension": ".py",
   "mimetype": "text/x-python",
   "name": "python",
   "nbconvert_exporter": "python",
   "pygments_lexer": "ipython3",
   "version": "3.7.6"
  }
 },
 "nbformat": 4,
 "nbformat_minor": 4
}
